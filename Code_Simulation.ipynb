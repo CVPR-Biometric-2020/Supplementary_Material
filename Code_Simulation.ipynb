{
  "nbformat": 4,
  "nbformat_minor": 0,
  "metadata": {
    "colab": {
      "name": "Code_Simulation.ipynb",
      "provenance": [],
      "collapsed_sections": []
    },
    "language_info": {
      "codemirror_mode": {
        "name": "ipython",
        "version": 3
      },
      "file_extension": ".py",
      "mimetype": "text/x-python",
      "name": "python",
      "nbconvert_exporter": "python",
      "pygments_lexer": "ipython3",
      "version": "3.5.6"
    },
    "kernelspec": {
      "name": "python3",
      "display_name": "Python 3"
    },
    "accelerator": "GPU"
  },
  "cells": [
    {
      "cell_type": "code",
      "metadata": {
        "id": "L4MOKKo93AHB",
        "colab_type": "code",
        "outputId": "a1d69dd0-a49a-4e80-a791-076554e74141",
        "colab": {
          "base_uri": "https://localhost:8080/",
          "height": 323
        }
      },
      "source": [
        "!nvidia-smi"
      ],
      "execution_count": 1,
      "outputs": [
        {
          "output_type": "stream",
          "text": [
            "Tue Mar  3 01:59:49 2020       \n",
            "+-----------------------------------------------------------------------------+\n",
            "| NVIDIA-SMI 440.48.02    Driver Version: 418.67       CUDA Version: 10.1     |\n",
            "|-------------------------------+----------------------+----------------------+\n",
            "| GPU  Name        Persistence-M| Bus-Id        Disp.A | Volatile Uncorr. ECC |\n",
            "| Fan  Temp  Perf  Pwr:Usage/Cap|         Memory-Usage | GPU-Util  Compute M. |\n",
            "|===============================+======================+======================|\n",
            "|   0  Tesla P100-PCIE...  Off  | 00000000:00:04.0 Off |                    0 |\n",
            "| N/A   37C    P0    26W / 250W |      0MiB / 16280MiB |      0%      Default |\n",
            "+-------------------------------+----------------------+----------------------+\n",
            "                                                                               \n",
            "+-----------------------------------------------------------------------------+\n",
            "| Processes:                                                       GPU Memory |\n",
            "|  GPU       PID   Type   Process name                             Usage      |\n",
            "|=============================================================================|\n",
            "|  No running processes found                                                 |\n",
            "+-----------------------------------------------------------------------------+\n"
          ],
          "name": "stdout"
        }
      ]
    },
    {
      "cell_type": "code",
      "metadata": {
        "id": "4seCuT_n89iY",
        "colab_type": "code",
        "outputId": "1c5e30e0-29d8-4a85-fa85-c53e7e78cc2f",
        "colab": {
          "base_uri": "https://localhost:8080/",
          "height": 35
        }
      },
      "source": [
        "%tensorflow_version 1.x\n",
        "import tensorflow as tf \n",
        "print(tf.__version__)"
      ],
      "execution_count": 2,
      "outputs": [
        {
          "output_type": "stream",
          "text": [
            "1.15.0\n"
          ],
          "name": "stdout"
        }
      ]
    },
    {
      "cell_type": "markdown",
      "metadata": {
        "id": "JfOgVK9sZzQY",
        "colab_type": "text"
      },
      "source": [
        "**Initialize**"
      ]
    },
    {
      "cell_type": "code",
      "metadata": {
        "id": "wQB26-q3ZzQZ",
        "colab_type": "code",
        "colab": {}
      },
      "source": [
        "import tensorflow as tf\n",
        "import numpy as np\n",
        "import matplotlib.pyplot as plt\n",
        "import scipy.io\n",
        "from scipy import stats\n",
        "from sklearn.preprocessing import OneHotEncoder\n",
        "from sklearn.utils import resample\n",
        "from sklearn.utils import class_weight\n",
        "from sklearn.model_selection import KFold\n",
        "import time\n",
        "import os\n",
        "from google.colab import files\n",
        "import shutil\n",
        "\n",
        "read_file=scipy.io.loadmat('Example_database.mat') # Please put Example_database.mat in right position\n",
        "Input_train = np.zeros((3360,450,4))  # 80% for train data (total is 4200)\n",
        "Input_test = np.zeros((840,450,4))   # 20% for test data (total is 4200)\n",
        "\n",
        "# Assign train data from Example_database.mat\n",
        "Input_train =np.array(read_file['train_1'])\n",
        "\n",
        "# Assign test data from Example_database.mat\n",
        "Input_test =np.array(read_file['test_1'])\n",
        "\n",
        "train_label =np.array(read_file['train_label'])  \n",
        "test_label =np.array(read_file['test_label'])  \n",
        "\n",
        "X_train = Input_train\n",
        "Y_train = train_label\n",
        "\n",
        "X_test = Input_test\n",
        "Y_test = test_label\n",
        "\n",
        "# number of classes\n",
        "n_classes= 42\n",
        "# number of features\n",
        "n_features=X_train.shape[1]\n",
        "\n"
      ],
      "execution_count": 0,
      "outputs": []
    },
    {
      "cell_type": "markdown",
      "metadata": {
        "id": "soPaJzZ1ZzQd",
        "colab_type": "text"
      },
      "source": [
        "**Set Target Subject**"
      ]
    },
    {
      "cell_type": "code",
      "metadata": {
        "id": "E0YH-M853U--",
        "colab_type": "code",
        "outputId": "731ab450-a62f-4000-8f40-cb245b8d7da9",
        "colab": {
          "base_uri": "https://localhost:8080/",
          "height": 35
        }
      },
      "source": [
        "ID = 1 # Set True user ID (1~42)\n",
        "\n",
        "print('ID',ID)\n",
        "\n",
        "Y_train[np.where(Y_train!=ID)] = 0\n",
        "Y_test[np.where(Y_test!=ID)] = 0\n",
        "   "
      ],
      "execution_count": 4,
      "outputs": [
        {
          "output_type": "stream",
          "text": [
            "ID 1\n"
          ],
          "name": "stdout"
        }
      ]
    },
    {
      "cell_type": "code",
      "metadata": {
        "id": "jrxsMwfzZzQg",
        "colab_type": "code",
        "outputId": "90e48014-9fbc-4c4b-9159-6de45ba8fb93",
        "colab": {
          "base_uri": "https://localhost:8080/",
          "height": 53
        }
      },
      "source": [
        "print(np.unique(Y_train, return_counts=True)) # Check whether train target is only 1 while others are 0\n",
        "print(np.unique(Y_test, return_counts=True)) # Check whether test target is only 1 while others are 0"
      ],
      "execution_count": 5,
      "outputs": [
        {
          "output_type": "stream",
          "text": [
            "(array([0, 1], dtype=uint8), array([3282,   78]))\n",
            "(array([0, 1], dtype=uint8), array([818,  22]))\n"
          ],
          "name": "stdout"
        }
      ]
    },
    {
      "cell_type": "markdown",
      "metadata": {
        "id": "hA8DMolyZzQj",
        "colab_type": "text"
      },
      "source": [
        "**Onehot Encoding + Data spliting and suffle**"
      ]
    },
    {
      "cell_type": "code",
      "metadata": {
        "id": "0oXwkk8LZzQk",
        "colab_type": "code",
        "outputId": "1ab13dd1-e406-4095-e408-123bd8b975f8",
        "colab": {
          "base_uri": "https://localhost:8080/",
          "height": 53
        }
      },
      "source": [
        "enc = OneHotEncoder()\n",
        "# randomly shuffle data before training and testing\n",
        "\n",
        "randIndx = np.arange(X_train.shape[0])\n",
        "np.random.shuffle(randIndx)\n",
        "\n",
        "randIndx2 = np.arange(X_test.shape[0])\n",
        "np.random.shuffle(randIndx2)\n",
        "\n",
        "trainSamples=np.floor(X_train.shape[0]).astype(int)\n",
        "testSamples=np.floor(X_test.shape[0]).astype(int) \n",
        "\n",
        "print(trainSamples)\n",
        "print(testSamples)\n",
        "\n",
        "X_train = X_train[randIndx,:,:] # Shuffle train data\n",
        "X_test = X_test[randIndx2,:,:] # Shuffle test data\n",
        " \n",
        "Y_train =enc.fit_transform(Y_train[randIndx].reshape(-1,1)).toarray() # Shuffle train target with one-hot encoding\n",
        "Y_test =enc.fit_transform(Y_test[randIndx2].reshape(-1,1)).toarray() # Shuffle test target with one-hot encoding\n",
        "\n"
      ],
      "execution_count": 6,
      "outputs": [
        {
          "output_type": "stream",
          "text": [
            "3360\n",
            "840\n"
          ],
          "name": "stdout"
        }
      ]
    },
    {
      "cell_type": "code",
      "metadata": {
        "id": "rEtICONyZzQq",
        "colab_type": "code",
        "outputId": "1433b77e-dbd7-4ff1-a1c3-5ba73af89092",
        "colab": {
          "base_uri": "https://localhost:8080/",
          "height": 53
        }
      },
      "source": [
        "# Assign to train_data (target) / test_data (target)\n",
        "train_data, train_target = X_train, Y_train\n",
        "test_data, test_target = X_test, Y_test\n",
        "\n",
        "print(train_data.shape,train_target.shape)\n",
        "print(test_data.shape,test_target.shape)\n"
      ],
      "execution_count": 7,
      "outputs": [
        {
          "output_type": "stream",
          "text": [
            "(3360, 450, 4) (3360, 2)\n",
            "(840, 450, 4) (840, 2)\n"
          ],
          "name": "stdout"
        }
      ]
    },
    {
      "cell_type": "markdown",
      "metadata": {
        "id": "I_IE9Ys7ZzQw",
        "colab_type": "text"
      },
      "source": [
        "**Network Structure**"
      ]
    },
    {
      "cell_type": "code",
      "metadata": {
        "id": "t3Rjeo_5ZzQx",
        "colab_type": "code",
        "colab": {}
      },
      "source": [
        "class Model:\n",
        "\n",
        "    def __init__(self, sess, name):\n",
        "\n",
        "        self.sess = sess\n",
        "\n",
        "        self.name = name\n",
        "\n",
        "        self._build_net()\n",
        "\n",
        "    def _build_net(self):\n",
        "\n",
        "        with tf.variable_scope(self.name):\n",
        "\n",
        "            self.training = tf.placeholder(tf.bool) # For turn-on/off dropout layer\n",
        "\n",
        "            # input place holders\n",
        "            self.X = tf.placeholder(tf.float32, [None, 450, 1]) # train/test data\n",
        "            self.Y = tf.placeholder(tf.float32, [None, 2]) # train/test target\n",
        "            self.learning_rate = tf.placeholder(tf.float32) # learning rate\n",
        "            self.class_weights = tf.placeholder(tf.float32) # weight value for weighted-cross entropy\n",
        "            self.reg_constant = tf.placeholder(tf.float32) # regularization constant\n",
        "\n",
        "            # Convolutional Layer #1, length: 450x1 -> 271x50 (change of feature size)\n",
        "            W1 = tf.Variable(tf.random_normal([180, 1, 50], stddev=0.01))\n",
        "            conv1 = tf.nn.conv1d(self.X, W1, stride=1, padding='VALID')\n",
        "            selu1 = tf.nn.selu(conv1) \n",
        "            dropout1 = tf.layers.dropout(inputs=selu1, rate=0.5, training=self.training)\n",
        "            \n",
        "            # Convolutional Layer #2, length: 271x50 -> 62x70 (change of feature size)\n",
        "            W2 = tf.Variable(tf.random_normal([210, 50, 70], stddev=0.01))\n",
        "            conv2 = tf.nn.conv1d(dropout1, W2, stride=1, padding='VALID')\n",
        "            selu2 = tf.nn.selu(conv2)                                    \n",
        "            dropout2 = tf.layers.dropout(inputs=selu2, rate=0.5, training=self.training)\n",
        "            \n",
        "        \n",
        "            # FC layer, length: 62x70  -> 2 output (change of feature size)\n",
        "            FC1 = tf.reshape(dropout2, [-1, 62*70])  \n",
        "            FC_weight = tf.get_variable(\"FC_weight\", shape=[62*70, 2], initializer=tf.contrib.layers.xavier_initializer())\n",
        "            logits = tf.matmul(FC1,FC_weight) # Logit value\n",
        "    \n",
        "        # Define cost/loss & optimizer \n",
        "        reg_losses = tf.nn.l2_loss(W1) + tf.nn.l2_loss(W2) + tf.nn.l2_loss(FC_weight) # L2 regularization\n",
        "        \n",
        "        self.cost = tf.reduce_mean(tf.nn.weighted_cross_entropy_with_logits(self.Y, logits, self.class_weights)) \n",
        "        self.cost = self.cost + self.reg_constant * reg_losses\n",
        "\n",
        "        self.optimizer = tf.train.AdamOptimizer(learning_rate=self.learning_rate).minimize(self.cost) \n",
        "\n",
        "        self.sigmoid_out = tf.nn.sigmoid(logits) \n",
        "        self.predict = tf.cast(self.sigmoid_out[:,1], tf.float32) # Used for getting final train/test prediction\n",
        "                    \n",
        "        \n",
        "    def get_predict(self, x_test, training = False):          \n",
        "\n",
        "        return self.sess.run(self.predict, feed_dict={self.X: x_test, self.training: training})\n",
        "    \n",
        "\n",
        "    def get_cost(self, x_valid, y_valid, weights, reg, training = False):\n",
        "        \n",
        "        return self.sess.run(self.cost, feed_dict={self.X: x_valid, \n",
        "                                                   self.Y: y_valid, self.class_weights: weights, self.training: training, self.reg_constant: reg})\n",
        "\n",
        "\n",
        "    def train(self, x_data, y_data, weights, learning, reg, training = True):\n",
        "\n",
        "        return self.sess.run(self.optimizer, feed_dict={\n",
        "             self.X: x_data, self.Y: y_data, self.class_weights: weights, self.learning_rate: learning, self.training: training, self.reg_constant: reg})\n",
        "    "
      ],
      "execution_count": 0,
      "outputs": []
    },
    {
      "cell_type": "markdown",
      "metadata": {
        "id": "K-GFm7kdZzQz",
        "colab_type": "text"
      },
      "source": [
        "**Main**"
      ]
    },
    {
      "cell_type": "code",
      "metadata": {
        "scrolled": false,
        "id": "ak_o620MZzQz",
        "colab_type": "code",
        "outputId": "a4b7cca9-ca84-41c2-a10d-0aa632287b07",
        "colab": {
          "base_uri": "https://localhost:8080/",
          "height": 703
        }
      },
      "source": [
        "### Hyperparameters\n",
        "\n",
        "learning_rate = 0.0001\n",
        "training_epochs = 60\n",
        "batch_size = 336 # Mini-batch size: total: 3360(train)/840(test) \n",
        "num_cv = 10  # 10-fold cross validation\n",
        "bag_size = 3024  # bag_size = train_data_size - batch_size\n",
        "ear_epoch = 0\n",
        "\n",
        "valid_cost = np.zeros((training_epochs,4))\n",
        "\n",
        "# initialize\n",
        "sess = tf.Session()\n",
        "\n",
        "models = []\n",
        "num_models = 4 \n",
        "\n",
        "for m in range(num_models):\n",
        "    print('Number of Model+Bagging {}'.format(m+1))\n",
        "    models.append(Model(sess, \"model\" + str(m)))    \n",
        "\n",
        "\n",
        "sess.run(tf.global_variables_initializer())\n",
        "\n",
        "\n",
        "start_time = time.time() # time starts!\n",
        "\n",
        "print('Learning Started!')\n",
        "\n",
        "# train my model\n",
        "for epoch in range(training_epochs):\n",
        "         \n",
        "    total_batch = int(bag_size / batch_size)\n",
        "    valid_cost_cv = [0,0,0,0]\n",
        "    \n",
        "    cv = KFold(n_splits=num_cv, shuffle=True)\n",
        "    for train_index, test_index in cv.split(train_data): # For cross validation\n",
        "        cv_train_data, cv_validate_data = train_data[train_index], train_data[test_index]\n",
        "        cv_train_target, cv_validate_target = train_target[train_index], train_target[test_index]    \n",
        "                    \n",
        "        for m_idx, m in enumerate(models):\n",
        "            # Assign different regularization constant. They are best hyperparameters from our searching.\n",
        "            if m_idx==0: # DW feature\n",
        "              training, validating = cv_train_data[:,:,0], cv_validate_data[:,:,0]\n",
        "              training_target, validating_target = cv_train_target, cv_validate_target\n",
        "              reg = 0.02 \n",
        "            if m_idx==1: # TP feature\n",
        "              training, validating = cv_train_data[:,:,1], cv_validate_data[:,:,1]\n",
        "              training_target, validating_target = cv_train_target, cv_validate_target\n",
        "              reg = 0.01            \n",
        "            if m_idx==2: # FP feature\n",
        "              training, validating = cv_train_data[:,:,2], cv_validate_data[:,:,2]\n",
        "              training_target, validating_target = cv_train_target, cv_validate_target            \n",
        "              reg = 0.02\n",
        "            if m_idx==3: # Cubic feature\n",
        "              training, validating = cv_train_data[:,:,3], cv_validate_data[:,:,3]\n",
        "              training_target, validating_target = cv_train_target, cv_validate_target            \n",
        "              reg = 0.01   \n",
        "\n",
        "            training = np.reshape(training,[len(training),n_features,1])\n",
        "            validating = np.reshape(validating,[len(validating),n_features,1])\n",
        "\n",
        "            for i in range(total_batch):\n",
        "\n",
        "                batch_xs, batch_ys = training[batch_size*i:batch_size*(i+1),:,:], training_target[batch_size*i:batch_size*(i+1)]                \n",
        "                pos_weight = (n_classes - 1) # Weight value for weighted-cross entropy\n",
        "\n",
        "                _ = m.train(batch_xs, batch_ys, pos_weight, learning_rate, reg)  # train model independently\n",
        "            \n",
        "            pos_weight = 1 # Usual cross entropy for validation/test set\n",
        "            valid_cost_cv[m_idx] += m.get_cost(validating, validating_target, pos_weight, reg) \n",
        "            \n",
        "    valid_cost[epoch] =np.divide(valid_cost_cv ,num_cv) \n",
        "    \n",
        "    if ((epoch+1)%5) == 0:\n",
        "        print('Epoch:', '%04d' % (epoch + 1), 'Validating_cost_0 =', round(valid_cost[epoch,0],3),' Validating_cost_1 =', round(valid_cost[epoch,1],3),' Validating_cost_2 =', round(valid_cost[epoch,2],3),' Validating_cost_3 =', round(valid_cost[epoch,3],3)) \n",
        "       \n",
        "        \n",
        "print('Learning Finished!')\n",
        "\n",
        "end_time = time.time() # time ends!\n",
        "\n",
        "elapsed = end_time - start_time\n",
        "\n",
        "print('Execution time:{:.2f} seconds'.format(elapsed))\n",
        "print('Last validation error:{:.3f} '.format(valid_cost[-1,0]))\n",
        "print('Last validation error:{:.3f} '.format(valid_cost[-1,1]))\n",
        "print('Last validation error:{:.3f} '.format(valid_cost[-1,2]))\n",
        "print('Last validation error:{:.3f} '.format(valid_cost[-1,3]))\n"
      ],
      "execution_count": 9,
      "outputs": [
        {
          "output_type": "stream",
          "text": [
            "Number of Model+Bagging 1\n",
            "WARNING:tensorflow:From <ipython-input-8-875ae842c5bb>:28: dropout (from tensorflow.python.layers.core) is deprecated and will be removed in a future version.\n",
            "Instructions for updating:\n",
            "Use keras.layers.dropout instead.\n",
            "WARNING:tensorflow:From /usr/local/lib/python3.6/dist-packages/tensorflow_core/python/layers/core.py:271: Layer.apply (from tensorflow.python.keras.engine.base_layer) is deprecated and will be removed in a future version.\n",
            "Instructions for updating:\n",
            "Please use `layer.__call__` method instead.\n",
            "WARNING:tensorflow:\n",
            "The TensorFlow contrib module will not be included in TensorFlow 2.0.\n",
            "For more information, please see:\n",
            "  * https://github.com/tensorflow/community/blob/master/rfcs/20180907-contrib-sunset.md\n",
            "  * https://github.com/tensorflow/addons\n",
            "  * https://github.com/tensorflow/io (for I/O related ops)\n",
            "If you depend on functionality not listed there, please file an issue.\n",
            "\n",
            "Number of Model+Bagging 2\n",
            "Number of Model+Bagging 3\n",
            "Number of Model+Bagging 4\n",
            "Learning Started!\n",
            "Epoch: 0005 Validating_cost_0 = 0.739  Validating_cost_1 = 0.695  Validating_cost_2 = 0.66  Validating_cost_3 = 0.459\n",
            "Epoch: 0010 Validating_cost_0 = 0.484  Validating_cost_1 = 0.477  Validating_cost_2 = 0.409  Validating_cost_3 = 0.333\n",
            "Epoch: 0015 Validating_cost_0 = 0.311  Validating_cost_1 = 0.366  Validating_cost_2 = 0.262  Validating_cost_3 = 0.258\n",
            "Epoch: 0020 Validating_cost_0 = 0.215  Validating_cost_1 = 0.279  Validating_cost_2 = 0.171  Validating_cost_3 = 0.2\n",
            "Epoch: 0025 Validating_cost_0 = 0.157  Validating_cost_1 = 0.218  Validating_cost_2 = 0.12  Validating_cost_3 = 0.155\n",
            "Epoch: 0030 Validating_cost_0 = 0.118  Validating_cost_1 = 0.181  Validating_cost_2 = 0.087  Validating_cost_3 = 0.123\n",
            "Epoch: 0035 Validating_cost_0 = 0.094  Validating_cost_1 = 0.156  Validating_cost_2 = 0.069  Validating_cost_3 = 0.093\n",
            "Epoch: 0040 Validating_cost_0 = 0.078  Validating_cost_1 = 0.137  Validating_cost_2 = 0.057  Validating_cost_3 = 0.073\n",
            "Epoch: 0045 Validating_cost_0 = 0.068  Validating_cost_1 = 0.127  Validating_cost_2 = 0.049  Validating_cost_3 = 0.058\n",
            "Epoch: 0050 Validating_cost_0 = 0.06  Validating_cost_1 = 0.118  Validating_cost_2 = 0.043  Validating_cost_3 = 0.045\n",
            "Epoch: 0055 Validating_cost_0 = 0.055  Validating_cost_1 = 0.115  Validating_cost_2 = 0.04  Validating_cost_3 = 0.038\n",
            "Epoch: 0060 Validating_cost_0 = 0.051  Validating_cost_1 = 0.11  Validating_cost_2 = 0.038  Validating_cost_3 = 0.031\n",
            "Learning Finished!\n",
            "Execution time:352.63 seconds\n",
            "Last validation error:0.051 \n",
            "Last validation error:0.110 \n",
            "Last validation error:0.038 \n",
            "Last validation error:0.031 \n"
          ],
          "name": "stdout"
        }
      ]
    },
    {
      "cell_type": "markdown",
      "metadata": {
        "id": "7IQ-uF8vZzQ2",
        "colab_type": "text"
      },
      "source": [
        "**Epoch vs Cost plot**"
      ]
    },
    {
      "cell_type": "code",
      "metadata": {
        "id": "ySwsMlKeZzQ2",
        "colab_type": "code",
        "outputId": "70cd8530-531a-4d96-ef75-8f4d9f8fd5e5",
        "colab": {
          "base_uri": "https://localhost:8080/",
          "height": 295
        }
      },
      "source": [
        "fig = plt.figure()\n",
        "ax = plt.subplot(111)\n",
        "\n",
        "x_axis = np.linspace(1.0, training_epochs, num=training_epochs)\n",
        "ax.plot(x_axis, valid_cost[:,0],'r', label='DW feature')\n",
        "ax.plot(x_axis, valid_cost[:,1],'g', label='TP feature')\n",
        "ax.plot(x_axis, valid_cost[:,2],'b', label='FP feature')\n",
        "ax.plot(x_axis, valid_cost[:,3],'m', label='Cubic feature')\n",
        "\n",
        "\n",
        "ax.legend()\n",
        "plt.title('Epoch vs Cost')\n",
        "plt.xlabel('Epoch')\n",
        "plt.ylabel('Cost')\n",
        "\n",
        "plt.show()\n",
        "\n"
      ],
      "execution_count": 10,
      "outputs": [
        {
          "output_type": "display_data",
          "data": {
            "image/png": "[encoded data removed]",
            "text/plain": [
              "<Figure size 432x288 with 1 Axes>"
            ]
          },
          "metadata": {
            "tags": []
          }
        }
      ]
    },
    {
      "cell_type": "markdown",
      "metadata": {
        "id": "AyENg8npAICE",
        "colab_type": "text"
      },
      "source": [
        "**Weight calculator through training data**\n"
      ]
    },
    {
      "cell_type": "code",
      "metadata": {
        "id": "bQQ-ZPWKAewI",
        "colab_type": "code",
        "colab": {}
      },
      "source": [
        "thres = np.arange(0, 1.001, 0.001)\n",
        "\n",
        "training_0 = np.reshape(train_data[:,:,0], [len(train_data[:,:,0]),n_features,1])\n",
        "training_1 = np.reshape(train_data[:,:,1], [len(train_data[:,:,1]),n_features,1])\n",
        "training_2 = np.reshape(train_data[:,:,2], [len(train_data[:,:,2]),n_features,1])\n",
        "training_3 = np.reshape(train_data[:,:,3], [len(train_data[:,:,3]),n_features,1])\n",
        "\n",
        "train_logit_0 =  models[0].get_predict(training_0) # Train score in Model-DW feature\n",
        "train_logit_1 =  models[1].get_predict(training_1) # Train score in Model-TP feature\n",
        "train_logit_2 =  models[2].get_predict(training_2) # Train score in Model-FP feature\n",
        "train_logit_3 =  models[3].get_predict(training_3) # Train score in Model-Cubic feature"
      ],
      "execution_count": 0,
      "outputs": []
    },
    {
      "cell_type": "code",
      "metadata": {
        "id": "Mst-SY8jAG2m",
        "colab_type": "code",
        "outputId": "14fe1f44-9d74-459c-fb27-7a32e80f29d6",
        "colab": {
          "base_uri": "https://localhost:8080/",
          "height": 89
        }
      },
      "source": [
        "# Train Result in Model-DW feature\n",
        "\n",
        "thres_matrix_train_0 = np.zeros((len(train_target),len(thres)))\n",
        "total_matrix_train_0 = np.zeros((len(thres),4)) #acc,far,frr,recall(order of column)\n",
        "\n",
        "\n",
        "for j in range(len(thres)):\n",
        "    for i in range(len(train_target)):\n",
        "        if train_logit_0[i] < thres[j]:\n",
        "            thres_matrix_train_0[i,j] = 0\n",
        "        else:\n",
        "            thres_matrix_train_0[i,j] = 1\n",
        "\n",
        "for i in range(len(thres)):\n",
        "\n",
        "    equal_logit = np.equal(thres_matrix_train_0[:,i], train_target[:,1]) \n",
        "    unique2, True_pos_neg_test = np.unique(thres_matrix_train_0[np.where(equal_logit==True),i], return_counts=True)\n",
        "    unique3, False_pos_neg_test = np.unique(thres_matrix_train_0[np.where(equal_logit==False),i], return_counts=True) \n",
        "\n",
        "    if np.shape(True_pos_neg_test)==(1,):\n",
        "        if unique2[0] == 0:\n",
        "            True_pos_neg_test = [True_pos_neg_test[0], 0]\n",
        "        else:\n",
        "            True_pos_neg_test = [0, True_pos_neg_test[0]]\n",
        "\n",
        "    if np.shape(False_pos_neg_test)==(1,):\n",
        "        if unique3[0] == 0:\n",
        "            False_pos_neg_test = [False_pos_neg_test[0], 0]\n",
        "        else:\n",
        "            False_pos_neg_test = [0, False_pos_neg_test[0]]\n",
        "\n",
        "    if np.shape(True_pos_neg_test)==(0,):\n",
        "        True_pos_neg_test = [0, 0]\n",
        "\n",
        "    if np.shape(False_pos_neg_test)==(0,):\n",
        "        False_pos_neg_test = [0, 0]\n",
        "\n",
        "    Recall_test= True_pos_neg_test[1]/(False_pos_neg_test[0]+True_pos_neg_test[1])\n",
        "    Specific_test = True_pos_neg_test[0] /(True_pos_neg_test[0]+False_pos_neg_test[1])\n",
        "\n",
        "    ACC_test = (True_pos_neg_test[0]+True_pos_neg_test[1]) / (len(train_target))\n",
        "    FAR_test = 1 - Specific_test\n",
        "    FRR_test = 1 - Recall_test\n",
        "\n",
        "    total_matrix_train_0[i,:] = ACC_test, FAR_test, FRR_test, Recall_test\n",
        "\n",
        "\n",
        "EER_loc_test = np.argmin(abs(total_matrix_train_0[:,1] - total_matrix_train_0[:,2]))\n",
        "print('EER: {:.3f} '.format((total_matrix_train_0[EER_loc_test,1]+total_matrix_train_0[EER_loc_test,2])/2))\n",
        "print('FRR at EER: {:.3f} '.format(total_matrix_train_0[EER_loc_test,2]))\n",
        "print('FAR at EER: {:.3f} '.format(total_matrix_train_0[EER_loc_test,1]))\n",
        "print('Accuracy at EER: {:.3f} '.format(total_matrix_train_0[EER_loc_test,0]))\n",
        "\n",
        "ACC_0 = total_matrix_train_0[EER_loc_test,0]"
      ],
      "execution_count": 12,
      "outputs": [
        {
          "output_type": "stream",
          "text": [
            "EER: 0.000 \n",
            "FRR at EER: 0.000 \n",
            "FAR at EER: 0.000 \n",
            "Accuracy at EER: 1.000 \n"
          ],
          "name": "stdout"
        }
      ]
    },
    {
      "cell_type": "code",
      "metadata": {
        "id": "3eCpdItGAG5j",
        "colab_type": "code",
        "outputId": "500272fc-63d9-4ed6-b8da-55dc58714008",
        "colab": {
          "base_uri": "https://localhost:8080/",
          "height": 89
        }
      },
      "source": [
        "# Train Result in Model-TP feature\n",
        "\n",
        "thres_matrix_train_1 = np.zeros((len(train_target),len(thres)))\n",
        "total_matrix_train_1 = np.zeros((len(thres),4)) #acc,far,frr,recall(order of column)\n",
        "\n",
        "\n",
        "for j in range(len(thres)):\n",
        "    for i in range(len(train_target)):\n",
        "        if train_logit_1[i] < thres[j]:\n",
        "            thres_matrix_train_1[i,j] = 0\n",
        "        else:\n",
        "            thres_matrix_train_1[i,j] = 1\n",
        "\n",
        "for i in range(len(thres)):\n",
        "\n",
        "    equal_logit = np.equal(thres_matrix_train_1[:,i], train_target[:,1]) \n",
        "    unique2, True_pos_neg_test = np.unique(thres_matrix_train_1[np.where(equal_logit==True),i], return_counts=True)\n",
        "    unique3, False_pos_neg_test = np.unique(thres_matrix_train_1[np.where(equal_logit==False),i], return_counts=True) \n",
        "\n",
        "    if np.shape(True_pos_neg_test)==(1,):\n",
        "        if unique2[0] == 0:\n",
        "            True_pos_neg_test = [True_pos_neg_test[0], 0]\n",
        "        else:\n",
        "            True_pos_neg_test = [0, True_pos_neg_test[0]]\n",
        "\n",
        "    if np.shape(False_pos_neg_test)==(1,):\n",
        "        if unique3[0] == 0:\n",
        "            False_pos_neg_test = [False_pos_neg_test[0], 0]\n",
        "        else:\n",
        "            False_pos_neg_test = [0, False_pos_neg_test[0]]\n",
        "\n",
        "    if np.shape(True_pos_neg_test)==(0,):\n",
        "        True_pos_neg_test = [0, 0]\n",
        "\n",
        "    if np.shape(False_pos_neg_test)==(0,):\n",
        "        False_pos_neg_test = [0, 0]\n",
        "\n",
        "    Recall_test= True_pos_neg_test[1]/(False_pos_neg_test[0]+True_pos_neg_test[1])\n",
        "    Specific_test = True_pos_neg_test[0] /(True_pos_neg_test[0]+False_pos_neg_test[1])\n",
        "\n",
        "    ACC_test = (True_pos_neg_test[0]+True_pos_neg_test[1]) / (len(train_target))\n",
        "    FAR_test = 1 - Specific_test\n",
        "    FRR_test = 1 - Recall_test\n",
        "\n",
        "    total_matrix_train_1[i,:] = ACC_test, FAR_test, FRR_test, Recall_test\n",
        "\n",
        "EER_loc_test = np.argmin(abs(total_matrix_train_1[:,1] - total_matrix_train_1[:,2]))\n",
        "print('EER: {:.3f} '.format((total_matrix_train_1[EER_loc_test,1]+total_matrix_train_1[EER_loc_test,2])/2))\n",
        "print('FRR at EER: {:.3f} '.format(total_matrix_train_1[EER_loc_test,2]))\n",
        "print('FAR at EER: {:.3f} '.format(total_matrix_train_1[EER_loc_test,1]))\n",
        "print('Accuracy at EER: {:.3f} '.format(total_matrix_train_1[EER_loc_test,0]))\n",
        "\n",
        "ACC_1 = total_matrix_train_1[EER_loc_test,0]"
      ],
      "execution_count": 13,
      "outputs": [
        {
          "output_type": "stream",
          "text": [
            "EER: 0.013 \n",
            "FRR at EER: 0.013 \n",
            "FAR at EER: 0.012 \n",
            "Accuracy at EER: 0.988 \n"
          ],
          "name": "stdout"
        }
      ]
    },
    {
      "cell_type": "code",
      "metadata": {
        "id": "oXQ8-oHiAG8X",
        "colab_type": "code",
        "outputId": "6019174d-6387-420a-c5c3-6627585039c5",
        "colab": {
          "base_uri": "https://localhost:8080/",
          "height": 89
        }
      },
      "source": [
        "# Train Result in Model-FP feature\n",
        "\n",
        "thres_matrix_train_2 = np.zeros((len(train_target),len(thres)))\n",
        "total_matrix_train_2 = np.zeros((len(thres),4)) \n",
        "\n",
        "\n",
        "for j in range(len(thres)):\n",
        "    for i in range(len(train_target)):\n",
        "        if train_logit_2[i] < thres[j]:\n",
        "            thres_matrix_train_2[i,j] = 0\n",
        "        else:\n",
        "            thres_matrix_train_2[i,j] = 1\n",
        "\n",
        "for i in range(len(thres)):\n",
        "\n",
        "    equal_logit = np.equal(thres_matrix_train_2[:,i], train_target[:,1]) \n",
        "    unique2, True_pos_neg_test = np.unique(thres_matrix_train_2[np.where(equal_logit==True),i], return_counts=True)\n",
        "    unique3, False_pos_neg_test = np.unique(thres_matrix_train_2[np.where(equal_logit==False),i], return_counts=True) \n",
        "\n",
        "    if np.shape(True_pos_neg_test)==(1,):\n",
        "        if unique2[0] == 0:\n",
        "            True_pos_neg_test = [True_pos_neg_test[0], 0]\n",
        "        else:\n",
        "            True_pos_neg_test = [0, True_pos_neg_test[0]]\n",
        "\n",
        "    if np.shape(False_pos_neg_test)==(1,):\n",
        "        if unique3[0] == 0:\n",
        "            False_pos_neg_test = [False_pos_neg_test[0], 0]\n",
        "        else:\n",
        "            False_pos_neg_test = [0, False_pos_neg_test[0]]\n",
        "\n",
        "    if np.shape(True_pos_neg_test)==(0,):\n",
        "        True_pos_neg_test = [0, 0]\n",
        "\n",
        "    if np.shape(False_pos_neg_test)==(0,):\n",
        "        False_pos_neg_test = [0, 0]\n",
        "\n",
        "    Recall_test= True_pos_neg_test[1]/(False_pos_neg_test[0]+True_pos_neg_test[1])\n",
        "    Specific_test = True_pos_neg_test[0] /(True_pos_neg_test[0]+False_pos_neg_test[1])\n",
        "\n",
        "    ACC_test = (True_pos_neg_test[0]+True_pos_neg_test[1]) / (len(train_target))\n",
        "    FAR_test = 1 - Specific_test\n",
        "    FRR_test = 1 - Recall_test\n",
        "\n",
        "    total_matrix_train_2[i,:] = ACC_test, FAR_test, FRR_test, Recall_test\n",
        "\n",
        "EER_loc_test = np.argmin(abs(total_matrix_train_2[:,1] - total_matrix_train_2[:,2]))\n",
        "print('EER: {:.3f} '.format((total_matrix_train_2[EER_loc_test,1]+total_matrix_train_2[EER_loc_test,2])/2))\n",
        "print('FRR at EER: {:.3f} '.format(total_matrix_train_2[EER_loc_test,2]))\n",
        "print('FAR at EER: {:.3f} '.format(total_matrix_train_2[EER_loc_test,1]))\n",
        "print('Accuracy at EER: {:.3f} '.format(total_matrix_train_2[EER_loc_test,0]))\n",
        "\n",
        "ACC_2 = total_matrix_train_2[EER_loc_test,0]"
      ],
      "execution_count": 14,
      "outputs": [
        {
          "output_type": "stream",
          "text": [
            "EER: 0.000 \n",
            "FRR at EER: 0.000 \n",
            "FAR at EER: 0.000 \n",
            "Accuracy at EER: 1.000 \n"
          ],
          "name": "stdout"
        }
      ]
    },
    {
      "cell_type": "code",
      "metadata": {
        "id": "0LQ9YCSyYKH5",
        "colab_type": "code",
        "outputId": "b3cbedf0-f5da-4998-8dea-590b7f068327",
        "colab": {
          "base_uri": "https://localhost:8080/",
          "height": 89
        }
      },
      "source": [
        "# Train Result in Model-Cubic feature\n",
        "\n",
        "thres_matrix_train_3 = np.zeros((len(train_target),len(thres)))\n",
        "total_matrix_train_3 = np.zeros((len(thres),4)) #acc,far,frr,recall(order of column)\n",
        "\n",
        "\n",
        "for j in range(len(thres)):\n",
        "    for i in range(len(train_target)):\n",
        "        if train_logit_3[i] < thres[j]:\n",
        "            thres_matrix_train_3[i,j] = 0\n",
        "        else:\n",
        "            thres_matrix_train_3[i,j] = 1\n",
        "\n",
        "for i in range(len(thres)):\n",
        "\n",
        "    equal_logit = np.equal(thres_matrix_train_3[:,i], train_target[:,1])\n",
        "    unique2, True_pos_neg_test = np.unique(thres_matrix_train_3[np.where(equal_logit==True),i], return_counts=True)\n",
        "    unique3, False_pos_neg_test = np.unique(thres_matrix_train_3[np.where(equal_logit==False),i], return_counts=True) \n",
        "\n",
        "    if np.shape(True_pos_neg_test)==(1,):\n",
        "        if unique2[0] == 0:\n",
        "            True_pos_neg_test = [True_pos_neg_test[0], 0]\n",
        "        else:\n",
        "            True_pos_neg_test = [0, True_pos_neg_test[0]]\n",
        "\n",
        "    if np.shape(False_pos_neg_test)==(1,):\n",
        "        if unique3[0] == 0:\n",
        "            False_pos_neg_test = [False_pos_neg_test[0], 0]\n",
        "        else:\n",
        "            False_pos_neg_test = [0, False_pos_neg_test[0]]\n",
        "\n",
        "    if np.shape(True_pos_neg_test)==(0,):\n",
        "        True_pos_neg_test = [0, 0]\n",
        "\n",
        "    if np.shape(False_pos_neg_test)==(0,):\n",
        "        False_pos_neg_test = [0, 0]\n",
        "\n",
        "    Recall_test= True_pos_neg_test[1]/(False_pos_neg_test[0]+True_pos_neg_test[1])\n",
        "    Specific_test = True_pos_neg_test[0] /(True_pos_neg_test[0]+False_pos_neg_test[1])\n",
        "\n",
        "    ACC_test = (True_pos_neg_test[0]+True_pos_neg_test[1]) / (len(train_target))\n",
        "    FAR_test = 1 - Specific_test\n",
        "    FRR_test = 1 - Recall_test\n",
        "\n",
        "    total_matrix_train_3[i,:] = ACC_test, FAR_test, FRR_test, Recall_test\n",
        "\n",
        "EER_loc_test = np.argmin(abs(total_matrix_train_3[:,1] - total_matrix_train_3[:,2]))\n",
        "print('EER: {:.3f} '.format((total_matrix_train_3[EER_loc_test,1]+total_matrix_train_3[EER_loc_test,2])/2))\n",
        "print('FRR at EER: {:.3f} '.format(total_matrix_train_3[EER_loc_test,2]))\n",
        "print('FAR at EER: {:.3f} '.format(total_matrix_train_3[EER_loc_test,1]))\n",
        "print('Accuracy at EER: {:.3f} '.format(total_matrix_train_3[EER_loc_test,0]))\n",
        "\n",
        "ACC_3 = total_matrix_train_3[EER_loc_test,0]"
      ],
      "execution_count": 15,
      "outputs": [
        {
          "output_type": "stream",
          "text": [
            "EER: 0.000 \n",
            "FRR at EER: 0.000 \n",
            "FAR at EER: 0.000 \n",
            "Accuracy at EER: 1.000 \n"
          ],
          "name": "stdout"
        }
      ]
    },
    {
      "cell_type": "markdown",
      "metadata": {
        "id": "AzIlfY14Bk63",
        "colab_type": "text"
      },
      "source": [
        "**Result of test set in individual model**"
      ]
    },
    {
      "cell_type": "code",
      "metadata": {
        "id": "xfGvATHEBdh-",
        "colab_type": "code",
        "colab": {}
      },
      "source": [
        "   \n",
        "testing_0 = np.reshape(test_data[:,:,0], [len(test_data[:,:,0]),n_features,1])\n",
        "testing_1 = np.reshape(test_data[:,:,1], [len(test_data[:,:,1]),n_features,1])\n",
        "testing_2 = np.reshape(test_data[:,:,2], [len(test_data[:,:,2]),n_features,1])\n",
        "testing_3 = np.reshape(test_data[:,:,3], [len(test_data[:,:,3]),n_features,1])\n",
        "\n",
        "start_time_test = time.time() # time starts!\n",
        "\n",
        "test_logit_0 =  models[0].get_predict(testing_0) # Test score in Model-DW feature\n",
        "test_logit_1 =  models[1].get_predict(testing_1) # Test score in Model-TP feature\n",
        "test_logit_2 =  models[2].get_predict(testing_2) # Test score in Model-FP feature\n",
        "test_logit_3 =  models[3].get_predict(testing_3) # Test score in Model-Cubic feature    \n"
      ],
      "execution_count": 0,
      "outputs": []
    },
    {
      "cell_type": "markdown",
      "metadata": {
        "id": "A2dte2uLZFIg",
        "colab_type": "text"
      },
      "source": [
        "**Final Fusion**"
      ]
    },
    {
      "cell_type": "code",
      "metadata": {
        "id": "7DTHrN13ZXGF",
        "colab_type": "code",
        "outputId": "e8befc2e-fba2-44a7-cc84-b47f248515b9",
        "colab": {
          "base_uri": "https://localhost:8080/",
          "height": 71
        }
      },
      "source": [
        "# Assign the intrinsic weight value for each model\n",
        "weight_0 = round((ACC_0) / (ACC_0+ACC_1+ACC_2+ACC_3),3) \n",
        "weight_1 = round((ACC_1) / (ACC_0+ACC_1+ACC_2+ACC_3),3)\n",
        "weight_2 = round((ACC_2) / (ACC_0+ACC_1+ACC_2+ACC_3),3)\n",
        "weight_3 = round((ACC_3) / (ACC_0+ACC_1+ACC_2+ACC_3),3)\n",
        "\n",
        "thres_matrix_test = np.zeros((len(test_target),len(thres)))\n",
        "total_matrix_test = np.zeros((len(thres),4)) #acc,far,frr,recall(order of column)\n",
        "\n",
        "print('Weight0: ',weight_0,' Weight1: ',weight_1, ' Weight2: ',weight_2, ' Weight3: ',weight_3)\n",
        "\n",
        "test_logit = (weight_0*test_logit_0 + weight_1*test_logit_1 + weight_2*test_logit_2 + weight_3*test_logit_3) # Weight sum score fusion\n",
        "\n",
        "\n",
        "for j in range(len(thres)):\n",
        "    for i in range(len(test_target)):\n",
        "        if test_logit[i] < thres[j]:\n",
        "            thres_matrix_test[i,j] = 0\n",
        "        else:\n",
        "            thres_matrix_test[i,j] = 1\n",
        "\n",
        "\n",
        "unique, counts = np.unique(test_target[:,1], return_counts=True)\n",
        "print('Test set dictionary: ',dict(zip(unique, counts)))\n",
        "\n",
        "\n",
        "for i in range(len(thres)):\n",
        "\n",
        "    equal_logit = np.equal(thres_matrix_test[:,i], test_target[:,1]) \n",
        "    unique2, True_pos_neg_test = np.unique(thres_matrix_test[np.where(equal_logit==True),i], return_counts=True)\n",
        "    unique3, False_pos_neg_test = np.unique(thres_matrix_test[np.where(equal_logit==False),i], return_counts=True) \n",
        "\n",
        "    if np.shape(True_pos_neg_test)==(1,):\n",
        "        if unique2[0] == 0:\n",
        "            True_pos_neg_test = [True_pos_neg_test[0], 0]\n",
        "        else:\n",
        "            True_pos_neg_test = [0, True_pos_neg_test[0]]\n",
        "\n",
        "    if np.shape(False_pos_neg_test)==(1,):\n",
        "        if unique3[0] == 0:\n",
        "            False_pos_neg_test = [False_pos_neg_test[0], 0]\n",
        "        else:\n",
        "            False_pos_neg_test = [0, False_pos_neg_test[0]]\n",
        "\n",
        "    if np.shape(True_pos_neg_test)==(0,):\n",
        "        True_pos_neg_test = [0, 0]\n",
        "\n",
        "    if np.shape(False_pos_neg_test)==(0,):\n",
        "        False_pos_neg_test = [0, 0]\n",
        "\n",
        "    Recall_test= True_pos_neg_test[1]/(False_pos_neg_test[0]+True_pos_neg_test[1])\n",
        "    Specific_test = True_pos_neg_test[0] /(True_pos_neg_test[0]+False_pos_neg_test[1])\n",
        "\n",
        "    ACC_test = (True_pos_neg_test[0]+True_pos_neg_test[1]) / (len(test_target))\n",
        "    FAR_test = 1 - Specific_test\n",
        "    FRR_test = 1 - Recall_test\n",
        "\n",
        "    total_matrix_test[i,:] = ACC_test, FAR_test, FRR_test, Recall_test\n",
        "\n",
        "test_time = time.time() - start_time_test \n",
        "\n",
        "print('Execution Test time:{:.2f} seconds'.format(test_time))"
      ],
      "execution_count": 17,
      "outputs": [
        {
          "output_type": "stream",
          "text": [
            "Weight0:  0.251  Weight1:  0.248  Weight2:  0.251  Weight3:  0.251\n",
            "Test set dictionary:  {0.0: 818, 1.0: 22}\n",
            "Execution Test time:2.23 seconds\n"
          ],
          "name": "stdout"
        }
      ]
    },
    {
      "cell_type": "code",
      "metadata": {
        "id": "qM2ZzeDFZzRG",
        "colab_type": "code",
        "outputId": "1e55b1b2-a21c-4c99-dd33-0b74e7b3c2a9",
        "colab": {
          "base_uri": "https://localhost:8080/",
          "height": 645
        }
      },
      "source": [
        "fig4 = plt.figure()\n",
        "ax = plt.subplot(111)\n",
        "ax.plot(thres, total_matrix_test[:,1], 'b', label='FAR')\n",
        "ax.plot(thres, total_matrix_test[:,2],'r', label='FRR')\n",
        "ax.legend()\n",
        "plt.title('FAR vs FRR (Test)')\n",
        "plt.xlabel('Threshold')\n",
        "plt.ylabel('Err Rate')\n",
        "plt.show()\n",
        "\n",
        "EER_line = thres[::-1]\n",
        "fig5 = plt.figure()\n",
        "ax2 = plt.subplot(111)\n",
        "ax2.plot(total_matrix_test[:,1], total_matrix_test[:,3],'r',label='ROC')\n",
        "ax2.plot(thres, EER_line, 'b',label='EER Line')\n",
        "ax2.legend()\n",
        "plt.title('ROC Curve (Test)')\n",
        "plt.xlabel('FAR')\n",
        "plt.ylabel('TPR')\n",
        "plt.show()\n",
        "\n",
        "EER_loc_test = np.argmin(abs(total_matrix_test[:,1] - total_matrix_test[:,2]))\n",
        "print('EER: {:.3f} '.format((total_matrix_test[EER_loc_test,1]+total_matrix_test[EER_loc_test,2])/2))\n",
        "print('FRR at EER: {:.3f} '.format(total_matrix_test[EER_loc_test,2]))\n",
        "print('FAR at EER: {:.3f} '.format(total_matrix_test[EER_loc_test,1]))\n",
        "print('Accuracy at EER: {:.3f} '.format(total_matrix_test[EER_loc_test,0]))\n",
        "\n"
      ],
      "execution_count": 18,
      "outputs": [
        {
          "output_type": "display_data",
          "data": {
            "image/png": "[encoded data removed]",
            "text/plain": [
              "<Figure size 432x288 with 1 Axes>"
            ]
          },
          "metadata": {
            "tags": []
          }
        },
        {
          "output_type": "display_data",
          "data": {
            "image/png": "[encoded data removed]",
            "text/plain": [
              "<Figure size 432x288 with 1 Axes>"
            ]
          },
          "metadata": {
            "tags": []
          }
        },
        {
          "output_type": "stream",
          "text": [
            "EER: 0.000 \n",
            "FRR at EER: 0.000 \n",
            "FAR at EER: 0.000 \n",
            "Accuracy at EER: 1.000 \n"
          ],
          "name": "stdout"
        }
      ]
    }
  ]
}